{
 "cells": [
  {
   "cell_type": "markdown",
   "metadata": {},
   "source": [
    "## DS4002 Project 3 – Facial Recognition: Accuracy by Age, Gender, and Race"
   ]
  },
  {
   "cell_type": "markdown",
   "metadata": {},
   "source": [
    "Install DeepFace package"
   ]
  },
  {
   "cell_type": "code",
   "execution_count": 211,
   "metadata": {},
   "outputs": [
    {
     "name": "stdout",
     "output_type": "stream",
     "text": [
      "Requirement already satisfied: deepface in /Library/Frameworks/Python.framework/Versions/3.9/lib/python3.9/site-packages (0.0.89)\n",
      "Requirement already satisfied: numpy>=1.14.0 in /Users/keivonchamanara/Library/Python/3.9/lib/python/site-packages (from deepface) (1.26.1)\n",
      "Requirement already satisfied: pandas>=0.23.4 in /Users/keivonchamanara/Library/Python/3.9/lib/python/site-packages (from deepface) (2.1.2)\n",
      "Requirement already satisfied: gdown>=3.10.1 in /Library/Frameworks/Python.framework/Versions/3.9/lib/python3.9/site-packages (from deepface) (5.1.0)\n",
      "Requirement already satisfied: tqdm>=4.30.0 in /Library/Frameworks/Python.framework/Versions/3.9/lib/python3.9/site-packages (from deepface) (4.66.2)\n",
      "Requirement already satisfied: Pillow>=5.2.0 in /Library/Frameworks/Python.framework/Versions/3.9/lib/python3.9/site-packages (from deepface) (9.4.0)\n",
      "Requirement already satisfied: opencv-python>=4.5.5.64 in /Library/Frameworks/Python.framework/Versions/3.9/lib/python3.9/site-packages (from deepface) (4.9.0.80)\n",
      "Requirement already satisfied: tensorflow>=1.9.0 in /Library/Frameworks/Python.framework/Versions/3.9/lib/python3.9/site-packages (from deepface) (2.16.1)\n",
      "Requirement already satisfied: keras>=2.2.0 in /Library/Frameworks/Python.framework/Versions/3.9/lib/python3.9/site-packages (from deepface) (3.2.1)\n",
      "Requirement already satisfied: Flask>=1.1.2 in /Library/Frameworks/Python.framework/Versions/3.9/lib/python3.9/site-packages (from deepface) (3.0.3)\n",
      "Requirement already satisfied: mtcnn>=0.1.0 in /Library/Frameworks/Python.framework/Versions/3.9/lib/python3.9/site-packages (from deepface) (0.1.1)\n",
      "Requirement already satisfied: retina-face>=0.0.1 in /Library/Frameworks/Python.framework/Versions/3.9/lib/python3.9/site-packages (from deepface) (0.0.16)\n",
      "Requirement already satisfied: fire>=0.4.0 in /Library/Frameworks/Python.framework/Versions/3.9/lib/python3.9/site-packages (from deepface) (0.6.0)\n",
      "Requirement already satisfied: gunicorn>=20.1.0 in /Library/Frameworks/Python.framework/Versions/3.9/lib/python3.9/site-packages (from deepface) (21.2.0)\n",
      "Requirement already satisfied: six in /Library/Frameworks/Python.framework/Versions/3.9/lib/python3.9/site-packages (from fire>=0.4.0->deepface) (1.16.0)\n",
      "Requirement already satisfied: termcolor in /Library/Frameworks/Python.framework/Versions/3.9/lib/python3.9/site-packages (from fire>=0.4.0->deepface) (2.4.0)\n",
      "Requirement already satisfied: Werkzeug>=3.0.0 in /Library/Frameworks/Python.framework/Versions/3.9/lib/python3.9/site-packages (from Flask>=1.1.2->deepface) (3.0.2)\n",
      "Requirement already satisfied: Jinja2>=3.1.2 in /Library/Frameworks/Python.framework/Versions/3.9/lib/python3.9/site-packages (from Flask>=1.1.2->deepface) (3.1.2)\n",
      "Requirement already satisfied: itsdangerous>=2.1.2 in /Library/Frameworks/Python.framework/Versions/3.9/lib/python3.9/site-packages (from Flask>=1.1.2->deepface) (2.1.2)\n",
      "Requirement already satisfied: click>=8.1.3 in /Library/Frameworks/Python.framework/Versions/3.9/lib/python3.9/site-packages (from Flask>=1.1.2->deepface) (8.1.7)\n",
      "Requirement already satisfied: blinker>=1.6.2 in /Library/Frameworks/Python.framework/Versions/3.9/lib/python3.9/site-packages (from Flask>=1.1.2->deepface) (1.7.0)\n",
      "Requirement already satisfied: importlib-metadata>=3.6.0 in /Library/Frameworks/Python.framework/Versions/3.9/lib/python3.9/site-packages (from Flask>=1.1.2->deepface) (4.11.3)\n",
      "Requirement already satisfied: beautifulsoup4 in /Library/Frameworks/Python.framework/Versions/3.9/lib/python3.9/site-packages (from gdown>=3.10.1->deepface) (4.11.1)\n",
      "Requirement already satisfied: filelock in /Library/Frameworks/Python.framework/Versions/3.9/lib/python3.9/site-packages (from gdown>=3.10.1->deepface) (3.13.4)\n",
      "Requirement already satisfied: requests[socks] in /Library/Frameworks/Python.framework/Versions/3.9/lib/python3.9/site-packages (from gdown>=3.10.1->deepface) (2.27.1)\n",
      "Requirement already satisfied: packaging in /Library/Frameworks/Python.framework/Versions/3.9/lib/python3.9/site-packages (from gunicorn>=20.1.0->deepface) (21.3)\n",
      "Requirement already satisfied: absl-py in /Library/Frameworks/Python.framework/Versions/3.9/lib/python3.9/site-packages (from keras>=2.2.0->deepface) (2.1.0)\n",
      "Requirement already satisfied: rich in /Library/Frameworks/Python.framework/Versions/3.9/lib/python3.9/site-packages (from keras>=2.2.0->deepface) (13.7.1)\n",
      "Requirement already satisfied: namex in /Library/Frameworks/Python.framework/Versions/3.9/lib/python3.9/site-packages (from keras>=2.2.0->deepface) (0.0.8)\n",
      "Requirement already satisfied: h5py in /Library/Frameworks/Python.framework/Versions/3.9/lib/python3.9/site-packages (from keras>=2.2.0->deepface) (3.11.0)\n",
      "Requirement already satisfied: optree in /Library/Frameworks/Python.framework/Versions/3.9/lib/python3.9/site-packages (from keras>=2.2.0->deepface) (0.11.0)\n",
      "Requirement already satisfied: ml-dtypes in /Library/Frameworks/Python.framework/Versions/3.9/lib/python3.9/site-packages (from keras>=2.2.0->deepface) (0.3.2)\n",
      "Requirement already satisfied: python-dateutil>=2.8.2 in /Users/keivonchamanara/Library/Python/3.9/lib/python/site-packages (from pandas>=0.23.4->deepface) (2.8.2)\n",
      "Requirement already satisfied: pytz>=2020.1 in /Users/keivonchamanara/Library/Python/3.9/lib/python/site-packages (from pandas>=0.23.4->deepface) (2023.3.post1)\n",
      "Requirement already satisfied: tzdata>=2022.1 in /Users/keivonchamanara/Library/Python/3.9/lib/python/site-packages (from pandas>=0.23.4->deepface) (2023.3)\n",
      "Requirement already satisfied: astunparse>=1.6.0 in /Library/Frameworks/Python.framework/Versions/3.9/lib/python3.9/site-packages (from tensorflow>=1.9.0->deepface) (1.6.3)\n",
      "Requirement already satisfied: flatbuffers>=23.5.26 in /Library/Frameworks/Python.framework/Versions/3.9/lib/python3.9/site-packages (from tensorflow>=1.9.0->deepface) (24.3.25)\n",
      "Requirement already satisfied: gast!=0.5.0,!=0.5.1,!=0.5.2,>=0.2.1 in /Library/Frameworks/Python.framework/Versions/3.9/lib/python3.9/site-packages (from tensorflow>=1.9.0->deepface) (0.5.4)\n",
      "Requirement already satisfied: google-pasta>=0.1.1 in /Library/Frameworks/Python.framework/Versions/3.9/lib/python3.9/site-packages (from tensorflow>=1.9.0->deepface) (0.2.0)\n",
      "Requirement already satisfied: libclang>=13.0.0 in /Library/Frameworks/Python.framework/Versions/3.9/lib/python3.9/site-packages (from tensorflow>=1.9.0->deepface) (18.1.1)\n",
      "Requirement already satisfied: opt-einsum>=2.3.2 in /Library/Frameworks/Python.framework/Versions/3.9/lib/python3.9/site-packages (from tensorflow>=1.9.0->deepface) (3.3.0)\n",
      "Requirement already satisfied: protobuf!=4.21.0,!=4.21.1,!=4.21.2,!=4.21.3,!=4.21.4,!=4.21.5,<5.0.0dev,>=3.20.3 in /Library/Frameworks/Python.framework/Versions/3.9/lib/python3.9/site-packages (from tensorflow>=1.9.0->deepface) (4.25.3)\n",
      "Requirement already satisfied: setuptools in /Library/Frameworks/Python.framework/Versions/3.9/lib/python3.9/site-packages (from tensorflow>=1.9.0->deepface) (56.0.0)\n",
      "Requirement already satisfied: typing-extensions>=3.6.6 in /Library/Frameworks/Python.framework/Versions/3.9/lib/python3.9/site-packages (from tensorflow>=1.9.0->deepface) (4.11.0)\n",
      "Requirement already satisfied: wrapt>=1.11.0 in /Library/Frameworks/Python.framework/Versions/3.9/lib/python3.9/site-packages (from tensorflow>=1.9.0->deepface) (1.16.0)\n",
      "Requirement already satisfied: grpcio<2.0,>=1.24.3 in /Library/Frameworks/Python.framework/Versions/3.9/lib/python3.9/site-packages (from tensorflow>=1.9.0->deepface) (1.62.1)\n",
      "Requirement already satisfied: tensorboard<2.17,>=2.16 in /Library/Frameworks/Python.framework/Versions/3.9/lib/python3.9/site-packages (from tensorflow>=1.9.0->deepface) (2.16.2)\n",
      "Requirement already satisfied: tensorflow-io-gcs-filesystem>=0.23.1 in /Library/Frameworks/Python.framework/Versions/3.9/lib/python3.9/site-packages (from tensorflow>=1.9.0->deepface) (0.36.0)\n",
      "Requirement already satisfied: wheel<1.0,>=0.23.0 in /Library/Frameworks/Python.framework/Versions/3.9/lib/python3.9/site-packages (from astunparse>=1.6.0->tensorflow>=1.9.0->deepface) (0.43.0)\n",
      "Requirement already satisfied: zipp>=0.5 in /Library/Frameworks/Python.framework/Versions/3.9/lib/python3.9/site-packages (from importlib-metadata>=3.6.0->Flask>=1.1.2->deepface) (3.8.0)\n",
      "Requirement already satisfied: MarkupSafe>=2.0 in /Library/Frameworks/Python.framework/Versions/3.9/lib/python3.9/site-packages (from Jinja2>=3.1.2->Flask>=1.1.2->deepface) (2.1.1)\n",
      "Requirement already satisfied: urllib3<1.27,>=1.21.1 in /Library/Frameworks/Python.framework/Versions/3.9/lib/python3.9/site-packages (from requests[socks]->gdown>=3.10.1->deepface) (1.26.9)\n",
      "Requirement already satisfied: certifi>=2017.4.17 in /Library/Frameworks/Python.framework/Versions/3.9/lib/python3.9/site-packages (from requests[socks]->gdown>=3.10.1->deepface) (2022.12.7)\n",
      "Requirement already satisfied: charset-normalizer~=2.0.0 in /Library/Frameworks/Python.framework/Versions/3.9/lib/python3.9/site-packages (from requests[socks]->gdown>=3.10.1->deepface) (2.0.12)\n",
      "Requirement already satisfied: idna<4,>=2.5 in /Library/Frameworks/Python.framework/Versions/3.9/lib/python3.9/site-packages (from requests[socks]->gdown>=3.10.1->deepface) (3.3)\n",
      "Requirement already satisfied: markdown>=2.6.8 in /Library/Frameworks/Python.framework/Versions/3.9/lib/python3.9/site-packages (from tensorboard<2.17,>=2.16->tensorflow>=1.9.0->deepface) (3.6)\n",
      "Requirement already satisfied: tensorboard-data-server<0.8.0,>=0.7.0 in /Library/Frameworks/Python.framework/Versions/3.9/lib/python3.9/site-packages (from tensorboard<2.17,>=2.16->tensorflow>=1.9.0->deepface) (0.7.2)\n",
      "Requirement already satisfied: soupsieve>1.2 in /Library/Frameworks/Python.framework/Versions/3.9/lib/python3.9/site-packages (from beautifulsoup4->gdown>=3.10.1->deepface) (2.3.2.post1)\n",
      "Requirement already satisfied: pyparsing!=3.0.5,>=2.0.2 in /Library/Frameworks/Python.framework/Versions/3.9/lib/python3.9/site-packages (from packaging->gunicorn>=20.1.0->deepface) (3.0.9)\n",
      "Requirement already satisfied: PySocks!=1.5.7,>=1.5.6 in /Library/Frameworks/Python.framework/Versions/3.9/lib/python3.9/site-packages (from requests[socks]->gdown>=3.10.1->deepface) (1.7.1)\n",
      "Requirement already satisfied: markdown-it-py>=2.2.0 in /Library/Frameworks/Python.framework/Versions/3.9/lib/python3.9/site-packages (from rich->keras>=2.2.0->deepface) (3.0.0)\n",
      "Requirement already satisfied: pygments<3.0.0,>=2.13.0 in /Library/Frameworks/Python.framework/Versions/3.9/lib/python3.9/site-packages (from rich->keras>=2.2.0->deepface) (2.17.2)\n",
      "Requirement already satisfied: mdurl~=0.1 in /Library/Frameworks/Python.framework/Versions/3.9/lib/python3.9/site-packages (from markdown-it-py>=2.2.0->rich->keras>=2.2.0->deepface) (0.1.2)\n",
      "\n",
      "\u001b[1m[\u001b[0m\u001b[34;49mnotice\u001b[0m\u001b[1;39;49m]\u001b[0m\u001b[39;49m A new release of pip is available: \u001b[0m\u001b[31;49m23.3.1\u001b[0m\u001b[39;49m -> \u001b[0m\u001b[32;49m24.0\u001b[0m\n",
      "\u001b[1m[\u001b[0m\u001b[34;49mnotice\u001b[0m\u001b[1;39;49m]\u001b[0m\u001b[39;49m To update, run: \u001b[0m\u001b[32;49mpip install --upgrade pip\u001b[0m\n",
      "Note: you may need to restart the kernel to use updated packages.\n"
     ]
    }
   ],
   "source": [
    "pip install deepface"
   ]
  },
  {
   "cell_type": "markdown",
   "metadata": {},
   "source": [
    "Install TF-Keras API"
   ]
  },
  {
   "cell_type": "code",
   "execution_count": 212,
   "metadata": {},
   "outputs": [
    {
     "name": "stdout",
     "output_type": "stream",
     "text": [
      "Requirement already satisfied: tf-keras in /Library/Frameworks/Python.framework/Versions/3.9/lib/python3.9/site-packages (2.16.0)\n",
      "Requirement already satisfied: tensorflow<2.17,>=2.16 in /Library/Frameworks/Python.framework/Versions/3.9/lib/python3.9/site-packages (from tf-keras) (2.16.1)\n",
      "Requirement already satisfied: absl-py>=1.0.0 in /Library/Frameworks/Python.framework/Versions/3.9/lib/python3.9/site-packages (from tensorflow<2.17,>=2.16->tf-keras) (2.1.0)\n",
      "Requirement already satisfied: astunparse>=1.6.0 in /Library/Frameworks/Python.framework/Versions/3.9/lib/python3.9/site-packages (from tensorflow<2.17,>=2.16->tf-keras) (1.6.3)\n",
      "Requirement already satisfied: flatbuffers>=23.5.26 in /Library/Frameworks/Python.framework/Versions/3.9/lib/python3.9/site-packages (from tensorflow<2.17,>=2.16->tf-keras) (24.3.25)\n",
      "Requirement already satisfied: gast!=0.5.0,!=0.5.1,!=0.5.2,>=0.2.1 in /Library/Frameworks/Python.framework/Versions/3.9/lib/python3.9/site-packages (from tensorflow<2.17,>=2.16->tf-keras) (0.5.4)\n",
      "Requirement already satisfied: google-pasta>=0.1.1 in /Library/Frameworks/Python.framework/Versions/3.9/lib/python3.9/site-packages (from tensorflow<2.17,>=2.16->tf-keras) (0.2.0)\n",
      "Requirement already satisfied: h5py>=3.10.0 in /Library/Frameworks/Python.framework/Versions/3.9/lib/python3.9/site-packages (from tensorflow<2.17,>=2.16->tf-keras) (3.11.0)\n",
      "Requirement already satisfied: libclang>=13.0.0 in /Library/Frameworks/Python.framework/Versions/3.9/lib/python3.9/site-packages (from tensorflow<2.17,>=2.16->tf-keras) (18.1.1)\n",
      "Requirement already satisfied: ml-dtypes~=0.3.1 in /Library/Frameworks/Python.framework/Versions/3.9/lib/python3.9/site-packages (from tensorflow<2.17,>=2.16->tf-keras) (0.3.2)\n",
      "Requirement already satisfied: opt-einsum>=2.3.2 in /Library/Frameworks/Python.framework/Versions/3.9/lib/python3.9/site-packages (from tensorflow<2.17,>=2.16->tf-keras) (3.3.0)\n",
      "Requirement already satisfied: packaging in /Library/Frameworks/Python.framework/Versions/3.9/lib/python3.9/site-packages (from tensorflow<2.17,>=2.16->tf-keras) (21.3)\n",
      "Requirement already satisfied: protobuf!=4.21.0,!=4.21.1,!=4.21.2,!=4.21.3,!=4.21.4,!=4.21.5,<5.0.0dev,>=3.20.3 in /Library/Frameworks/Python.framework/Versions/3.9/lib/python3.9/site-packages (from tensorflow<2.17,>=2.16->tf-keras) (4.25.3)\n",
      "Requirement already satisfied: requests<3,>=2.21.0 in /Library/Frameworks/Python.framework/Versions/3.9/lib/python3.9/site-packages (from tensorflow<2.17,>=2.16->tf-keras) (2.27.1)\n",
      "Requirement already satisfied: setuptools in /Library/Frameworks/Python.framework/Versions/3.9/lib/python3.9/site-packages (from tensorflow<2.17,>=2.16->tf-keras) (56.0.0)\n",
      "Requirement already satisfied: six>=1.12.0 in /Library/Frameworks/Python.framework/Versions/3.9/lib/python3.9/site-packages (from tensorflow<2.17,>=2.16->tf-keras) (1.16.0)\n",
      "Requirement already satisfied: termcolor>=1.1.0 in /Library/Frameworks/Python.framework/Versions/3.9/lib/python3.9/site-packages (from tensorflow<2.17,>=2.16->tf-keras) (2.4.0)\n",
      "Requirement already satisfied: typing-extensions>=3.6.6 in /Library/Frameworks/Python.framework/Versions/3.9/lib/python3.9/site-packages (from tensorflow<2.17,>=2.16->tf-keras) (4.11.0)\n",
      "Requirement already satisfied: wrapt>=1.11.0 in /Library/Frameworks/Python.framework/Versions/3.9/lib/python3.9/site-packages (from tensorflow<2.17,>=2.16->tf-keras) (1.16.0)\n",
      "Requirement already satisfied: grpcio<2.0,>=1.24.3 in /Library/Frameworks/Python.framework/Versions/3.9/lib/python3.9/site-packages (from tensorflow<2.17,>=2.16->tf-keras) (1.62.1)\n",
      "Requirement already satisfied: tensorboard<2.17,>=2.16 in /Library/Frameworks/Python.framework/Versions/3.9/lib/python3.9/site-packages (from tensorflow<2.17,>=2.16->tf-keras) (2.16.2)\n",
      "Requirement already satisfied: keras>=3.0.0 in /Library/Frameworks/Python.framework/Versions/3.9/lib/python3.9/site-packages (from tensorflow<2.17,>=2.16->tf-keras) (3.2.1)\n",
      "Requirement already satisfied: tensorflow-io-gcs-filesystem>=0.23.1 in /Library/Frameworks/Python.framework/Versions/3.9/lib/python3.9/site-packages (from tensorflow<2.17,>=2.16->tf-keras) (0.36.0)\n",
      "Requirement already satisfied: numpy<2.0.0,>=1.23.5 in /Users/keivonchamanara/Library/Python/3.9/lib/python/site-packages (from tensorflow<2.17,>=2.16->tf-keras) (1.26.1)\n",
      "Requirement already satisfied: wheel<1.0,>=0.23.0 in /Library/Frameworks/Python.framework/Versions/3.9/lib/python3.9/site-packages (from astunparse>=1.6.0->tensorflow<2.17,>=2.16->tf-keras) (0.43.0)\n",
      "Requirement already satisfied: rich in /Library/Frameworks/Python.framework/Versions/3.9/lib/python3.9/site-packages (from keras>=3.0.0->tensorflow<2.17,>=2.16->tf-keras) (13.7.1)\n",
      "Requirement already satisfied: namex in /Library/Frameworks/Python.framework/Versions/3.9/lib/python3.9/site-packages (from keras>=3.0.0->tensorflow<2.17,>=2.16->tf-keras) (0.0.8)\n",
      "Requirement already satisfied: optree in /Library/Frameworks/Python.framework/Versions/3.9/lib/python3.9/site-packages (from keras>=3.0.0->tensorflow<2.17,>=2.16->tf-keras) (0.11.0)\n",
      "Requirement already satisfied: urllib3<1.27,>=1.21.1 in /Library/Frameworks/Python.framework/Versions/3.9/lib/python3.9/site-packages (from requests<3,>=2.21.0->tensorflow<2.17,>=2.16->tf-keras) (1.26.9)\n",
      "Requirement already satisfied: certifi>=2017.4.17 in /Library/Frameworks/Python.framework/Versions/3.9/lib/python3.9/site-packages (from requests<3,>=2.21.0->tensorflow<2.17,>=2.16->tf-keras) (2022.12.7)\n",
      "Requirement already satisfied: charset-normalizer~=2.0.0 in /Library/Frameworks/Python.framework/Versions/3.9/lib/python3.9/site-packages (from requests<3,>=2.21.0->tensorflow<2.17,>=2.16->tf-keras) (2.0.12)\n",
      "Requirement already satisfied: idna<4,>=2.5 in /Library/Frameworks/Python.framework/Versions/3.9/lib/python3.9/site-packages (from requests<3,>=2.21.0->tensorflow<2.17,>=2.16->tf-keras) (3.3)\n",
      "Requirement already satisfied: markdown>=2.6.8 in /Library/Frameworks/Python.framework/Versions/3.9/lib/python3.9/site-packages (from tensorboard<2.17,>=2.16->tensorflow<2.17,>=2.16->tf-keras) (3.6)\n",
      "Requirement already satisfied: tensorboard-data-server<0.8.0,>=0.7.0 in /Library/Frameworks/Python.framework/Versions/3.9/lib/python3.9/site-packages (from tensorboard<2.17,>=2.16->tensorflow<2.17,>=2.16->tf-keras) (0.7.2)\n",
      "Requirement already satisfied: werkzeug>=1.0.1 in /Library/Frameworks/Python.framework/Versions/3.9/lib/python3.9/site-packages (from tensorboard<2.17,>=2.16->tensorflow<2.17,>=2.16->tf-keras) (3.0.2)\n",
      "Requirement already satisfied: pyparsing!=3.0.5,>=2.0.2 in /Library/Frameworks/Python.framework/Versions/3.9/lib/python3.9/site-packages (from packaging->tensorflow<2.17,>=2.16->tf-keras) (3.0.9)\n",
      "Requirement already satisfied: importlib-metadata>=4.4 in /Library/Frameworks/Python.framework/Versions/3.9/lib/python3.9/site-packages (from markdown>=2.6.8->tensorboard<2.17,>=2.16->tensorflow<2.17,>=2.16->tf-keras) (4.11.3)\n",
      "Requirement already satisfied: MarkupSafe>=2.1.1 in /Library/Frameworks/Python.framework/Versions/3.9/lib/python3.9/site-packages (from werkzeug>=1.0.1->tensorboard<2.17,>=2.16->tensorflow<2.17,>=2.16->tf-keras) (2.1.1)\n",
      "Requirement already satisfied: markdown-it-py>=2.2.0 in /Library/Frameworks/Python.framework/Versions/3.9/lib/python3.9/site-packages (from rich->keras>=3.0.0->tensorflow<2.17,>=2.16->tf-keras) (3.0.0)\n",
      "Requirement already satisfied: pygments<3.0.0,>=2.13.0 in /Library/Frameworks/Python.framework/Versions/3.9/lib/python3.9/site-packages (from rich->keras>=3.0.0->tensorflow<2.17,>=2.16->tf-keras) (2.17.2)\n",
      "Requirement already satisfied: zipp>=0.5 in /Library/Frameworks/Python.framework/Versions/3.9/lib/python3.9/site-packages (from importlib-metadata>=4.4->markdown>=2.6.8->tensorboard<2.17,>=2.16->tensorflow<2.17,>=2.16->tf-keras) (3.8.0)\n",
      "Requirement already satisfied: mdurl~=0.1 in /Library/Frameworks/Python.framework/Versions/3.9/lib/python3.9/site-packages (from markdown-it-py>=2.2.0->rich->keras>=3.0.0->tensorflow<2.17,>=2.16->tf-keras) (0.1.2)\n",
      "\n",
      "\u001b[1m[\u001b[0m\u001b[34;49mnotice\u001b[0m\u001b[1;39;49m]\u001b[0m\u001b[39;49m A new release of pip is available: \u001b[0m\u001b[31;49m23.3.1\u001b[0m\u001b[39;49m -> \u001b[0m\u001b[32;49m24.0\u001b[0m\n",
      "\u001b[1m[\u001b[0m\u001b[34;49mnotice\u001b[0m\u001b[1;39;49m]\u001b[0m\u001b[39;49m To update, run: \u001b[0m\u001b[32;49mpip install --upgrade pip\u001b[0m\n",
      "Note: you may need to restart the kernel to use updated packages.\n"
     ]
    }
   ],
   "source": [
    "pip install tf-keras"
   ]
  },
  {
   "cell_type": "markdown",
   "metadata": {},
   "source": [
    "Import necessary packages"
   ]
  },
  {
   "cell_type": "code",
   "execution_count": 213,
   "metadata": {},
   "outputs": [],
   "source": [
    "import os\n",
    "import numpy as np\n",
    "import pandas as pd\n",
    "import matplotlib.pyplot as plt\n",
    "from os import walk\n",
    "from PIL import Image\n",
    "import cv2\n",
    "from deepface import DeepFace"
   ]
  },
  {
   "cell_type": "markdown",
   "metadata": {},
   "source": [
    "Get the path to the folder/directory containing the images files and get a list of all the image file names. For privacy purposes, our path has been removed from the code block."
   ]
  },
  {
   "cell_type": "code",
   "execution_count": 214,
   "metadata": {},
   "outputs": [],
   "source": [
    "path = \"put path to the directory containing the images here\"\n",
    "dir_list = os.listdir(path)"
   ]
  },
  {
   "cell_type": "markdown",
   "metadata": {},
   "source": [
    "Create empty lists that will later contain all the ages, genders, races, and dates among the images"
   ]
  },
  {
   "cell_type": "code",
   "execution_count": 215,
   "metadata": {},
   "outputs": [],
   "source": [
    "ages = []\n",
    "genders = []\n",
    "races = []\n",
    "datetime = []"
   ]
  },
  {
   "cell_type": "markdown",
   "metadata": {},
   "source": [
    "There are 10,137 images"
   ]
  },
  {
   "cell_type": "code",
   "execution_count": 216,
   "metadata": {},
   "outputs": [
    {
     "name": "stdout",
     "output_type": "stream",
     "text": [
      "10137\n"
     ]
    }
   ],
   "source": [
    "print(len(dir_list))"
   ]
  },
  {
   "cell_type": "markdown",
   "metadata": {},
   "source": [
    "Sample of the file naming format. Check out the data dictionary for its breakdown and explanation"
   ]
  },
  {
   "cell_type": "code",
   "execution_count": 217,
   "metadata": {},
   "outputs": [
    {
     "name": "stdout",
     "output_type": "stream",
     "text": [
      "16_1_3_20170104222158160.jpg\n"
     ]
    }
   ],
   "source": [
    "print(dir_list[0])"
   ]
  },
  {
   "cell_type": "markdown",
   "metadata": {},
   "source": [
    "This block of code makes sure every filename contains the necessary information and if so, adds it to the aforementioned lists. Discards if it does not"
   ]
  },
  {
   "cell_type": "code",
   "execution_count": 218,
   "metadata": {},
   "outputs": [],
   "source": [
    "not_four = []\n",
    "\n",
    "for image in dir_list:\n",
    "    x = image.split(\"_\")\n",
    "    if len(x) == 4:\n",
    "        ages.append(x[0])\n",
    "        genders.append(x[1])\n",
    "        races.append(x[2])\n",
    "        datetime.append(x[3])\n",
    "    if len(x) != 4:\n",
    "        not_four.append(image)\n",
    "\n",
    "for image in not_four:\n",
    "    dir_list.remove(image)"
   ]
  },
  {
   "cell_type": "markdown",
   "metadata": {},
   "source": [
    "There were only two filenames without all the necessary information"
   ]
  },
  {
   "cell_type": "code",
   "execution_count": 219,
   "metadata": {},
   "outputs": [
    {
     "name": "stdout",
     "output_type": "stream",
     "text": [
      "10135\n"
     ]
    }
   ],
   "source": [
    "total = len(dir_list)\n",
    "print(total)"
   ]
  },
  {
   "cell_type": "code",
   "execution_count": 220,
   "metadata": {},
   "outputs": [
    {
     "name": "stdout",
     "output_type": "stream",
     "text": [
      "10135\n",
      "10135\n",
      "10135\n"
     ]
    }
   ],
   "source": [
    "print(len(ages))\n",
    "print(len(genders))\n",
    "print(len(races))"
   ]
  },
  {
   "cell_type": "markdown",
   "metadata": {},
   "source": [
    "Convert ages and races from string to int format for plotting purposes"
   ]
  },
  {
   "cell_type": "code",
   "execution_count": 221,
   "metadata": {},
   "outputs": [],
   "source": [
    "ages = list(map(int, ages))\n",
    "races = list(map(int, races))"
   ]
  },
  {
   "cell_type": "markdown",
   "metadata": {},
   "source": [
    "Plot the breakdown and distribution of ages, genders, and races among all 10,135 images"
   ]
  },
  {
   "cell_type": "code",
   "execution_count": 222,
   "metadata": {},
   "outputs": [
    {
     "data": {
      "text/plain": [
       "Text(0.5, 1.0, 'Distribution of Faces by Age')"
      ]
     },
     "execution_count": 222,
     "metadata": {},
     "output_type": "execute_result"
    },
    {
     "data": {
      "image/png": "[encoded data removed]",
      "text/plain": [
       "<Figure size 432x288 with 1 Axes>"
      ]
     },
     "metadata": {
      "needs_background": "light"
     },
     "output_type": "display_data"
    }
   ],
   "source": [
    "plt.hist(ages)\n",
    "plt.xticks(np.arange(0, 120, 20)) \n",
    "plt.title(\"Distribution of Faces by Age\")"
   ]
  },
  {
   "cell_type": "code",
   "execution_count": 223,
   "metadata": {},
   "outputs": [
    {
     "data": {
      "text/plain": [
       "Text(0.5, 1.0, 'Distribution of Faces by Gender')"
      ]
     },
     "execution_count": 223,
     "metadata": {},
     "output_type": "execute_result"
    },
    {
     "data": {
      "image/png": "[encoded data removed]",
      "text/plain": [
       "<Figure size 432x288 with 1 Axes>"
      ]
     },
     "metadata": {
      "needs_background": "light"
     },
     "output_type": "display_data"
    }
   ],
   "source": [
    "plt.hist(genders)\n",
    "plt.xticks([0.05, 0.95], ['Female', 'Male'])\n",
    "plt.title(\"Distribution of Faces by Gender\")"
   ]
  },
  {
   "cell_type": "code",
   "execution_count": 224,
   "metadata": {},
   "outputs": [
    {
     "data": {
      "text/plain": [
       "Text(0.5, 1.0, 'Distribution of Faces by Race')"
      ]
     },
     "execution_count": 224,
     "metadata": {},
     "output_type": "execute_result"
    },
    {
     "data": {
      "image/png": "[encoded data removed]",
      "text/plain": [
       "<Figure size 432x288 with 1 Axes>"
      ]
     },
     "metadata": {
      "needs_background": "light"
     },
     "output_type": "display_data"
    }
   ],
   "source": [
    "plt.hist(races)\n",
    "plt.xticks([0.2, 1, 2.2, 3, 3.8], ['White', 'Black', 'Asian', 'Indian', 'Others']) \n",
    "plt.title(\"Distribution of Faces by Race\")"
   ]
  },
  {
   "cell_type": "markdown",
   "metadata": {},
   "source": [
    "Sample of displaying an image to make sure they can be processed properly"
   ]
  },
  {
   "cell_type": "code",
   "execution_count": 225,
   "metadata": {},
   "outputs": [
    {
     "data": {
      "image/png": "[encoded data removed]",
      "text/plain": [
       "<Figure size 432x288 with 1 Axes>"
      ]
     },
     "metadata": {
      "needs_background": "light"
     },
     "output_type": "display_data"
    }
   ],
   "source": [
    "image_path = 'face_images/66_0_2_20170111205753656.jpg'\n",
    "\n",
    "img = cv2.imread(image_path)\n",
    "\n",
    "plt.imshow(img[:,:,::-1]) \n",
    "plt.show()"
   ]
  },
  {
   "cell_type": "markdown",
   "metadata": {},
   "source": [
    "Run DeepFace on the above image to see its predictions on the subject's age, gender, and race"
   ]
  },
  {
   "cell_type": "code",
   "execution_count": 226,
   "metadata": {},
   "outputs": [
    {
     "name": "stdout",
     "output_type": "stream",
     "text": [
      "age:  [{'age': 30, 'region': {'x': 60, 'y': 202, 'w': 551, 'h': 551, 'left_eye': (217, 418), 'right_eye': (453, 424)}, 'face_confidence': 0.9}]\n",
      "gender:  [{'gender': {'Woman': 0.03515808784868568, 'Man': 99.96484518051147}, 'dominant_gender': 'Man', 'region': {'x': 60, 'y': 202, 'w': 551, 'h': 551, 'left_eye': (217, 418), 'right_eye': (453, 424)}, 'face_confidence': 0.9}]\n",
      "race:  [{'race': {'asian': 96.25058747831508, 'indian': 0.9754920959765968, 'black': 0.11237384257086173, 'white': 0.03940621043741467, 'middle eastern': 0.0021341307182068617, 'latino hispanic': 2.6200124692924303}, 'dominant_race': 'asian', 'region': {'x': 60, 'y': 202, 'w': 551, 'h': 551, 'left_eye': (217, 418), 'right_eye': (453, 424)}, 'face_confidence': 0.9}]\n"
     ]
    }
   ],
   "source": [
    "age = DeepFace.analyze(img,actions=['age'])\n",
    "gender = DeepFace.analyze(img,actions=['gender'])\n",
    "race = DeepFace.analyze(img,actions=['race'])\n",
    "\n",
    "print('age: ', age)\n",
    "print('gender: ', gender)\n",
    "print('race: ', race)"
   ]
  },
  {
   "cell_type": "markdown",
   "metadata": {},
   "source": [
    "Create variables to be used for the overall accuracy of each category"
   ]
  },
  {
   "cell_type": "code",
   "execution_count": 228,
   "metadata": {},
   "outputs": [],
   "source": [
    "overall_age_accuracy = 0\n",
    "overall_gender_accuracy = 0\n",
    "overall_race_accuracy = 0"
   ]
  },
  {
   "cell_type": "markdown",
   "metadata": {},
   "source": [
    "Once again, create empty lists and repeat the same process onwards, just for the randomized sample of 1,000 images instead of all of them"
   ]
  },
  {
   "cell_type": "code",
   "execution_count": 229,
   "metadata": {},
   "outputs": [],
   "source": [
    "ages_1000 = []\n",
    "genders_1000 = []\n",
    "races_1000 = []\n",
    "datetime_1000 = []"
   ]
  },
  {
   "cell_type": "markdown",
   "metadata": {},
   "source": [
    "Get the first 1,000 images (which are random and follow a fairly similar distribution to entire dataset as shown below)"
   ]
  },
  {
   "cell_type": "code",
   "execution_count": 230,
   "metadata": {},
   "outputs": [],
   "source": [
    "first_1000_items = dir_list[:1000]"
   ]
  },
  {
   "cell_type": "code",
   "execution_count": 231,
   "metadata": {},
   "outputs": [],
   "source": [
    "for image in first_1000_items:\n",
    "    x = image.split(\"_\")\n",
    "    if len(x) == 4:\n",
    "        ages_1000.append(x[0])\n",
    "        genders_1000.append(x[1])\n",
    "        races_1000.append(x[2])\n",
    "        datetime_1000.append(x[3])"
   ]
  },
  {
   "cell_type": "code",
   "execution_count": 232,
   "metadata": {},
   "outputs": [],
   "source": [
    "ages_1000 = list(map(int, ages_1000))\n",
    "races_1000 = list(map(int, races_1000))"
   ]
  },
  {
   "cell_type": "code",
   "execution_count": 233,
   "metadata": {},
   "outputs": [
    {
     "data": {
      "text/plain": [
       "Text(0.5, 1.0, 'Distribution of Faces by Age: First 1000')"
      ]
     },
     "execution_count": 233,
     "metadata": {},
     "output_type": "execute_result"
    },
    {
     "data": {
      "image/png": "[encoded data removed]",
      "text/plain": [
       "<Figure size 432x288 with 1 Axes>"
      ]
     },
     "metadata": {
      "needs_background": "light"
     },
     "output_type": "display_data"
    }
   ],
   "source": [
    "plt.hist(ages_1000)\n",
    "plt.xticks(np.arange(0, 120, 20)) \n",
    "plt.title(\"Distribution of Faces by Age: First 1000\")"
   ]
  },
  {
   "cell_type": "code",
   "execution_count": 234,
   "metadata": {},
   "outputs": [
    {
     "data": {
      "text/plain": [
       "Text(0.5, 1.0, 'Distribution of Faces by Gender: First 1000')"
      ]
     },
     "execution_count": 234,
     "metadata": {},
     "output_type": "execute_result"
    },
    {
     "data": {
      "image/png": "[encoded data removed]",
      "text/plain": [
       "<Figure size 432x288 with 1 Axes>"
      ]
     },
     "metadata": {
      "needs_background": "light"
     },
     "output_type": "display_data"
    }
   ],
   "source": [
    "plt.hist(genders_1000)\n",
    "plt.xticks([0.05, 0.95], ['Female', 'Male'])\n",
    "plt.title(\"Distribution of Faces by Gender: First 1000\")"
   ]
  },
  {
   "cell_type": "code",
   "execution_count": 235,
   "metadata": {},
   "outputs": [
    {
     "data": {
      "text/plain": [
       "Text(0.5, 1.0, 'Distribution of Faces by Race: First 1000')"
      ]
     },
     "execution_count": 235,
     "metadata": {},
     "output_type": "execute_result"
    },
    {
     "data": {
      "image/png": "[encoded data removed]",
      "text/plain": [
       "<Figure size 432x288 with 1 Axes>"
      ]
     },
     "metadata": {
      "needs_background": "light"
     },
     "output_type": "display_data"
    }
   ],
   "source": [
    "plt.hist(races_1000)\n",
    "plt.xticks([0.2, 1, 2.2, 3, 3.8], ['White', 'Black', 'Asian', 'Indian', 'Others']) \n",
    "plt.title(\"Distribution of Faces by Race: First 1000\")"
   ]
  },
  {
   "cell_type": "markdown",
   "metadata": {},
   "source": [
    "Create variables to be used to determine the accuracy of the model on each age group"
   ]
  },
  {
   "cell_type": "code",
   "execution_count": 236,
   "metadata": {},
   "outputs": [],
   "source": [
    "age_0_10_acc = 0\n",
    "age_0_10_total = 0\n",
    "\n",
    "age_11_20_acc = 0\n",
    "age_11_20_total = 0\n",
    "\n",
    "age_21_30_acc = 0\n",
    "age_21_30_total = 0\n",
    "\n",
    "age_31_40_acc = 0\n",
    "age_31_40_total = 0\n",
    "\n",
    "age_41_50_acc = 0\n",
    "age_41_50_total = 0\n",
    "\n",
    "age_51_60_acc = 0\n",
    "age_51_60_total = 0\n",
    "\n",
    "age_61_70_acc = 0\n",
    "age_61_70_total = 0\n",
    "\n",
    "age_71_80_acc = 0\n",
    "age_71_80_total = 0\n",
    "\n",
    "age_81_90_acc = 0\n",
    "age_81_90_total = 0\n",
    "\n",
    "age_91_100_acc = 0\n",
    "age_91_100_total = 0"
   ]
  },
  {
   "cell_type": "markdown",
   "metadata": {},
   "source": [
    "Create variables to be used to determine the accuracy of the model on each gender"
   ]
  },
  {
   "cell_type": "code",
   "execution_count": 237,
   "metadata": {},
   "outputs": [],
   "source": [
    "male_acc = 0\n",
    "male_total = 0\n",
    "\n",
    "female_acc = 0\n",
    "female_total = 0"
   ]
  },
  {
   "cell_type": "markdown",
   "metadata": {},
   "source": [
    "Create variables to be used to determine the accuracy of the model on each race"
   ]
  },
  {
   "cell_type": "code",
   "execution_count": 238,
   "metadata": {},
   "outputs": [],
   "source": [
    "white_acc = 0\n",
    "white_total = 0\n",
    "\n",
    "black_acc = 0\n",
    "black_total = 0\n",
    "\n",
    "asian_acc = 0\n",
    "asian_total = 0\n",
    "\n",
    "indian_acc = 0\n",
    "indian_total = 0\n",
    "\n",
    "other_acc = 0\n",
    "other_total = 0"
   ]
  },
  {
   "cell_type": "markdown",
   "metadata": {},
   "source": [
    "Perform the analysis. This is an incredibly long process that can take upwards of 20 minutes for 1,000 images. As the analysis occurs, the accuracies are being tracked."
   ]
  },
  {
   "cell_type": "code",
   "execution_count": 239,
   "metadata": {},
   "outputs": [],
   "source": [
    "for image in first_1000_items:\n",
    "    image_path = f'face_images/{image}'\n",
    "\n",
    "    x = image.split(\"_\")\n",
    "\n",
    "    age = x[0]\n",
    "    gender = x[1]\n",
    "    race = x[2]\n",
    "\n",
    "    # print(age)\n",
    "    # print(gender)\n",
    "    # print(race)\n",
    "\n",
    "    img = cv2.imread(image_path)\n",
    "\n",
    "    # plt.imshow(img[:,:,::-1]) \n",
    "    # plt.show()\n",
    "\n",
    "    analysis_age = DeepFace.analyze(img,actions=['age'], enforce_detection=False)\n",
    "    analysis_gender = DeepFace.analyze(img,actions=['gender'], enforce_detection=False)\n",
    "    analysis_race = DeepFace.analyze(img,actions=['race'], enforce_detection=False)\n",
    "\n",
    "    if len(analysis_age) == 0 or len(analysis_gender) == 0 or len(analysis_race) == 0:\n",
    "        continue\n",
    "\n",
    "    # print(analysis_age)\n",
    "    # print(analysis_gender)\n",
    "    # print(analysis_race)\n",
    "\n",
    "    age_guess = analysis_age[0]['age']\n",
    "    gender_guess = analysis_gender[0]['dominant_gender']\n",
    "    race_guess = analysis_race[0]['dominant_race']\n",
    "\n",
    "    if gender_guess == 'Woman':\n",
    "        gender_guess = 1\n",
    "\n",
    "    if gender_guess == 'Man':\n",
    "        gender_guess = 0\n",
    "\n",
    "    if race_guess == 'white':\n",
    "        race_guess = 0\n",
    "\n",
    "    if race_guess == 'black':\n",
    "        race_guess = 1\n",
    "\n",
    "    if race_guess == 'asian':\n",
    "        race_guess = 2\n",
    "\n",
    "    if race_guess == 'indian':\n",
    "        race_guess = 3\n",
    "\n",
    "    if race_guess == 'latino hispanic' or race_guess == 'middle eastern':\n",
    "        race_guess = 4\n",
    "\n",
    "    # print(age_guess)\n",
    "    # print(gender_guess)\n",
    "    # print(race_guess)\n",
    "\n",
    "    if abs(int(age) - int(age_guess)) <= 5:\n",
    "        overall_age_accuracy =  overall_age_accuracy+1\n",
    "\n",
    "        if int(age) >= 0 and int(age) <= 10:\n",
    "            age_0_10_acc = age_0_10_acc + 1\n",
    "\n",
    "        if int(age) >= 11 and int(age) <= 20:\n",
    "            age_11_20_acc = age_11_20_acc + 1\n",
    "\n",
    "        if int(age) >= 21 and int(age) <= 30:\n",
    "            age_21_30_acc = age_21_30_acc + 1\n",
    "\n",
    "        if int(age) >= 31 and int(age) <= 40:\n",
    "            age_31_40_acc = age_31_40_acc + 1\n",
    "\n",
    "        if int(age) >= 41 and int(age) <= 50:\n",
    "            age_41_50_acc = age_41_50_acc + 1\n",
    "\n",
    "        if int(age) >= 51 and int(age) <= 60:\n",
    "            age_51_60_acc = age_51_60_acc + 1\n",
    "\n",
    "        if int(age) >= 61 and int(age) <= 70:\n",
    "            age_61_70_acc = age_61_70_acc + 1\n",
    "\n",
    "        if int(age) >= 71 and int(age) <= 80:\n",
    "            age_71_80_acc = age_71_80_acc + 1\n",
    "\n",
    "        if int(age) >= 81 and int(age) <= 90:\n",
    "            age_81_90_acc = age_81_90_acc + 1\n",
    "\n",
    "        if int(age) >= 91 and int(age) <= 100:\n",
    "            age_91_100_acc = age_91_100_acc + 1\n",
    "\n",
    "    if int(gender) == gender_guess:\n",
    "        overall_gender_accuracy = overall_gender_accuracy + 1\n",
    "\n",
    "        if int(gender) == 1:\n",
    "            female_acc = female_acc + 1\n",
    "\n",
    "        if int(gender) == 0:\n",
    "            male_acc = male_acc + 1\n",
    "\n",
    "    if int(race) == race_guess:\n",
    "        overall_race_accuracy = overall_race_accuracy + 1\n",
    "\n",
    "        if int(race) == 0:\n",
    "            white_acc = white_acc + 1\n",
    "\n",
    "        if int(race) == 1:\n",
    "            black_acc = black_acc + 1\n",
    "\n",
    "        if int(race) == 2:\n",
    "            asian_acc = asian_acc + 1\n",
    "\n",
    "        if int(race) == 3:\n",
    "            indian_acc = indian_acc + 1\n",
    "\n",
    "        if int(race) == 4:\n",
    "            other_acc = other_acc + 1\n",
    "\n",
    "    if int(age) >= 0 and int(age) <= 10:\n",
    "        age_0_10_total = age_0_10_total + 1\n",
    "\n",
    "    if int(age) >= 11 and int(age) <= 20:\n",
    "        age_11_20_total = age_11_20_total + 1\n",
    "\n",
    "    if int(age) >= 21 and int(age) <= 30:\n",
    "        age_21_30_total = age_21_30_total + 1\n",
    "\n",
    "    if int(age) >= 31 and int(age) <= 40:\n",
    "        age_31_40_total = age_31_40_total + 1\n",
    "\n",
    "    if int(age) >= 41 and int(age) <= 50:\n",
    "        age_41_50_total = age_41_50_total + 1\n",
    "\n",
    "    if int(age) >= 51 and int(age) <= 60:\n",
    "        age_51_60_total = age_51_60_total + 1\n",
    "\n",
    "    if int(age) >= 61 and int(age) <= 70:\n",
    "        age_61_70_total = age_61_70_total + 1\n",
    "\n",
    "    if int(age) >= 71 and int(age) <= 80:\n",
    "        age_71_80_total = age_71_80_total + 1\n",
    "\n",
    "    if int(age) >= 81 and int(age) <= 90:\n",
    "        age_81_90_total = age_81_90_total + 1\n",
    "\n",
    "    if int(age) >= 91 and int(age) <= 100:\n",
    "        age_91_100_total = age_91_100_total + 1  \n",
    "\n",
    "    if int(gender) == 1:\n",
    "        female_total = female_total + 1\n",
    "\n",
    "    if int(gender) == 0:\n",
    "        male_total = male_total + 1\n",
    "\n",
    "    if int(race) == 0:\n",
    "        white_total = white_total + 1\n",
    "\n",
    "    if int(race) == 1:\n",
    "        black_total = black_total + 1\n",
    "\n",
    "    if int(race) == 2:\n",
    "        asian_total = asian_total + 1\n",
    "\n",
    "    if int(race) == 3:\n",
    "        indian_total = indian_total + 1\n",
    "\n",
    "    if int(race) == 4:\n",
    "        other_total = other_total + 1\n"
   ]
  },
  {
   "cell_type": "markdown",
   "metadata": {},
   "source": [
    "Print and plot the overall accuracies"
   ]
  },
  {
   "cell_type": "code",
   "execution_count": 258,
   "metadata": {},
   "outputs": [
    {
     "name": "stdout",
     "output_type": "stream",
     "text": [
      "Overall accuracy of detecing age: 0.199\n",
      "Overall accuracy of detecing gender: 0.71\n",
      "Overall accuracy of detecing race: 0.691\n"
     ]
    }
   ],
   "source": [
    "print(f\"Overall accuracy of detecing age: {overall_age_accuracy/len(first_1000_items)}\")\n",
    "print(f\"Overall accuracy of detecing gender: {overall_gender_accuracy/len(first_1000_items)}\")\n",
    "print(f\"Overall accuracy of detecing race: {overall_race_accuracy/len(first_1000_items)}\")"
   ]
  },
  {
   "cell_type": "code",
   "execution_count": 259,
   "metadata": {},
   "outputs": [
    {
     "data": {
      "image/png": "[encoded data removed]",
      "text/plain": [
       "<Figure size 432x288 with 1 Axes>"
      ]
     },
     "metadata": {
      "needs_background": "light"
     },
     "output_type": "display_data"
    }
   ],
   "source": [
    "x_values = [\"Age\", \"Gender\", \"Race\"]\n",
    "y_values = [overall_age_accuracy/len(first_1000_items), overall_gender_accuracy/len(first_1000_items), overall_race_accuracy/len(first_1000_items)]\n",
    "\n",
    "plt.ylim(0, 1)\n",
    "\n",
    "plt.bar(x_values, y_values, color='forestgreen')\n",
    "\n",
    "plt.xlabel('Categories')\n",
    "plt.ylabel('Percentage of Correct Classifications')\n",
    "plt.title('Overall Accuracy of Facial Detection')\n",
    "\n",
    "plt.show()"
   ]
  },
  {
   "cell_type": "markdown",
   "metadata": {},
   "source": [
    "Print and plot the accuracies for each age group"
   ]
  },
  {
   "cell_type": "code",
   "execution_count": 244,
   "metadata": {},
   "outputs": [
    {
     "name": "stdout",
     "output_type": "stream",
     "text": [
      "Accuracy of detecing 0-10 age group: 0.0029850746268656717\n",
      "Accuracy of detecing 11-20 age group: 0.1349206349206349\n",
      "Accuracy of detecing 21-30 age group: 0.6493506493506493\n",
      "Accuracy of detecing 31-40 age group: 0.5514018691588785\n",
      "Accuracy of detecing 41-50 age group: 0.25757575757575757\n",
      "Accuracy of detecing 51-60 age group: 0.056818181818181816\n",
      "Accuracy of detecing 61-70 age group: 0.0\n",
      "Accuracy of detecing 71-80 age group: 0.0\n",
      "Accuracy of detecing 81-90 age group: 0.0\n",
      "Accuracy of detecing 91-100 age group: 0.0\n"
     ]
    }
   ],
   "source": [
    "print(f\"Accuracy of detecing 0-10 age group: {age_0_10_acc/age_0_10_total}\")\n",
    "print(f\"Accuracy of detecing 11-20 age group: {age_11_20_acc/age_11_20_total}\")\n",
    "print(f\"Accuracy of detecing 21-30 age group: {age_21_30_acc/age_21_30_total}\")\n",
    "print(f\"Accuracy of detecing 31-40 age group: {age_31_40_acc/age_31_40_total}\")\n",
    "print(f\"Accuracy of detecing 41-50 age group: {age_41_50_acc/age_41_50_total}\")\n",
    "print(f\"Accuracy of detecing 51-60 age group: {age_51_60_acc/age_51_60_total}\")\n",
    "print(f\"Accuracy of detecing 61-70 age group: {age_61_70_acc/age_61_70_total}\")\n",
    "print(f\"Accuracy of detecing 71-80 age group: {age_71_80_acc/age_71_80_total}\")\n",
    "print(f\"Accuracy of detecing 81-90 age group: {age_81_90_acc/age_81_90_total}\")\n",
    "print(f\"Accuracy of detecing 91-100 age group: {age_91_100_acc/age_91_100_total}\")"
   ]
  },
  {
   "cell_type": "code",
   "execution_count": 252,
   "metadata": {},
   "outputs": [
    {
     "data": {
      "image/png": "[encoded data removed]",
      "text/plain": [
       "<Figure size 432x288 with 1 Axes>"
      ]
     },
     "metadata": {
      "needs_background": "light"
     },
     "output_type": "display_data"
    }
   ],
   "source": [
    "x_values = [\"0-10\", \"11-20\", \"21-30\", \"31-40\", \"41-50\", \"51-60\", \"61-70\", \"71-80\", \"81-90\", \"91-100\"]\n",
    "y_values = [age_0_10_acc/age_0_10_total, age_11_20_acc/age_11_20_total, age_21_30_acc/age_21_30_total, age_31_40_acc/age_31_40_total, age_41_50_acc/age_41_50_total, age_51_60_acc/age_51_60_total, age_61_70_acc/age_61_70_total, age_71_80_acc/age_71_80_total, age_81_90_acc/age_81_90_total, age_91_100_acc/age_91_100_total]\n",
    "\n",
    "plt.ylim(0, 1)\n",
    "\n",
    "plt.bar(x_values, y_values, color='maroon')\n",
    "\n",
    "plt.xlabel('Ages')\n",
    "plt.ylabel('Percentage of Correct Classifications')\n",
    "plt.title('Overall Accuracy of Facial Detection by Age')\n",
    "\n",
    "plt.show()"
   ]
  },
  {
   "cell_type": "markdown",
   "metadata": {},
   "source": [
    "Print and plot the accuracies for each gender"
   ]
  },
  {
   "cell_type": "code",
   "execution_count": 242,
   "metadata": {},
   "outputs": [
    {
     "name": "stdout",
     "output_type": "stream",
     "text": [
      "Accuracy of detecing males: 0.8810572687224669\n",
      "Accuracy of detecing females: 0.575139146567718\n"
     ]
    }
   ],
   "source": [
    "print(f\"Accuracy of detecing males: {male_acc/male_total}\")\n",
    "print(f\"Accuracy of detecing females: {female_acc/female_total}\")"
   ]
  },
  {
   "cell_type": "code",
   "execution_count": 251,
   "metadata": {},
   "outputs": [
    {
     "data": {
      "image/png": "[encoded data removed]",
      "text/plain": [
       "<Figure size 432x288 with 1 Axes>"
      ]
     },
     "metadata": {
      "needs_background": "light"
     },
     "output_type": "display_data"
    }
   ],
   "source": [
    "x_values = [\"Males\", \"Females\"]\n",
    "y_values = [male_acc/male_total, female_acc/female_total]\n",
    "\n",
    "plt.ylim(0, 1)\n",
    "\n",
    "plt.bar(x_values, y_values, color='skyblue')\n",
    "\n",
    "plt.xlabel('Genders')\n",
    "plt.ylabel('Percentage of Correct Classifications')\n",
    "plt.title('Overall Accuracy of Facial Detection by Gender')\n",
    "\n",
    "plt.show()"
   ]
  },
  {
   "cell_type": "markdown",
   "metadata": {},
   "source": [
    "Print and plot the accuracies for each race"
   ]
  },
  {
   "cell_type": "code",
   "execution_count": 243,
   "metadata": {},
   "outputs": [
    {
     "name": "stdout",
     "output_type": "stream",
     "text": [
      "Accuracy of detecing White people: 0.8090909090909091\n",
      "Accuracy of detecing Black people: 0.7058823529411765\n",
      "Accuracy of detecing Asian people: 0.7719298245614035\n",
      "Accuracy of detecing Indian people: 0.31343283582089554\n",
      "Accuracy of detecing other racial groups: 0.46153846153846156\n"
     ]
    }
   ],
   "source": [
    "print(f\"Accuracy of detecing White people: {white_acc/white_total}\")\n",
    "print(f\"Accuracy of detecing Black people: {black_acc/black_total}\")\n",
    "print(f\"Accuracy of detecing Asian people: {asian_acc/asian_total}\")\n",
    "print(f\"Accuracy of detecing Indian people: {indian_acc/indian_total}\")\n",
    "print(f\"Accuracy of detecing other racial groups: {other_acc/other_total}\")\n"
   ]
  },
  {
   "cell_type": "code",
   "execution_count": 256,
   "metadata": {},
   "outputs": [
    {
     "data": {
      "image/png": "[encoded data removed]",
      "text/plain": [
       "<Figure size 432x288 with 1 Axes>"
      ]
     },
     "metadata": {
      "needs_background": "light"
     },
     "output_type": "display_data"
    }
   ],
   "source": [
    "x_values = [\"White\", \"Black\", \"Asian\", \"Indian\", \"Others\"]\n",
    "y_values = [white_acc/white_total, black_acc/black_total, asian_acc/asian_total, indian_acc/indian_total, other_acc/other_total]\n",
    "\n",
    "plt.ylim(0, 1)\n",
    "\n",
    "plt.bar(x_values, y_values, color='orange')\n",
    "\n",
    "plt.xlabel('Races')\n",
    "plt.ylabel('Percentage of Correct Classifications')\n",
    "plt.title('Overall Accuracy of Facial Detection by Race')\n",
    "\n",
    "plt.show()"
   ]
  }
 ],
 "metadata": {
  "kernelspec": {
   "display_name": "Python 3",
   "language": "python",
   "name": "python3"
  },
  "language_info": {
   "codemirror_mode": {
    "name": "ipython",
    "version": 3
   },
   "file_extension": ".py",
   "mimetype": "text/x-python",
   "name": "python",
   "nbconvert_exporter": "python",
   "pygments_lexer": "ipython3",
   "version": "3.9.5"
  }
 },
 "nbformat": 4,
 "nbformat_minor": 2
}
